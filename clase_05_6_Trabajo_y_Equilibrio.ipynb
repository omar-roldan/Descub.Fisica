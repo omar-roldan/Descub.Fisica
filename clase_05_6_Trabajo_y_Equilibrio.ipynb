{
  "nbformat": 4,
  "nbformat_minor": 0,
  "metadata": {
    "colab": {
      "name": "clase 05 - 6.Trabajo y Equilibrio.ipynb",
      "version": "0.3.2",
      "provenance": []
    },
    "kernelspec": {
      "name": "python3",
      "display_name": "Python 3"
    }
  },
  "cells": [
    {
      "metadata": {
        "id": "FQJt733GkWfE",
        "colab_type": "text"
      },
      "cell_type": "markdown",
      "source": [
        "# Descubriendo la física G6: 2018-II\n",
        "\n",
        "Clase 7: Módulo 6\n",
        "\n"
      ]
    },
    {
      "metadata": {
        "id": "pvKj2pfZjbKp",
        "colab_type": "text"
      },
      "cell_type": "markdown",
      "source": [
        "# Equilibrio\n",
        "\n",
        "<img src=\"http://lago.mine.nu/fisicagravitatoria/xhtml/contenidos/bloque1/tema7/imagenes/figura3tema7.jpg\">\n",
        "\n",
        "Tomado de [/lago.mine.nu/](http://lago.mine.nu/fisicagravitatoria/xhtml/contenidos/bloque1/tema7/tema7index.html)\n",
        "\n",
        "\n",
        "\\begin{align}\n",
        "\\sum_{F_x} &= 0, \\qquad p_x - F_r =0\\\\\n",
        "\\sum_{F_y} &= 0, \\qquad p_y - N =0\n",
        "\\end{align}\n",
        "\n",
        "Luego,\n",
        "\\begin{align}\n",
        " F_r &= p_x = p \\sin(\\alpha) \\\\\n",
        " N &= p_y = p \\cos(\\alpha)\n",
        "\\end{align}\n"
      ]
    },
    {
      "metadata": {
        "id": "HHge3Qij38MA",
        "colab_type": "text"
      },
      "cell_type": "markdown",
      "source": [
        "# Trabajo\n",
        "\n",
        "$$W = F_p\\ d = F \\cos(\\theta)\\ d$$\n",
        "\n",
        "donde:\n",
        "- $F_p$ es la componente de la fuerza que es paralela al desplazamiento\n",
        "- $\\theta$ es el ángulo entre la fuerza y el desplazamiento\n",
        "\n",
        "\n",
        "Notemos que:\n",
        "1. $\\cos 90^o = 0$, entonces: fuerzas perpendiculares al movimiento no realizan trabajo.\n",
        "\n",
        "1. $\\cos 180^o = -1$, entonces: fuerzas opuestas (antiparalelas) al movimiento realizan trabajo negativo.\n",
        "\n",
        "1. $\\cos 0 = 1$,  fuerzas paralelas al movimiento realizan trabajo positivo.\n",
        "\n",
        "\n",
        "**Ejemplo:**\n",
        "Un persona jala un bloque con una cuerda. Si la cuerda forma un angulo de $30^o$ con la dirección de movimiento, y la tensión en la cuerda es de $70N$, cuál es el trabajo realizado para un desplazamiento de 45 m ?\n",
        "\n",
        "**Solución:**\n",
        "\n",
        "$$W = F_p\\ d = F \\cos(30^o) \\ d = 70 \\sqrt3/2 * 45$$\n"
      ]
    },
    {
      "metadata": {
        "id": "VZHUHolS-b0H",
        "colab_type": "text"
      },
      "cell_type": "markdown",
      "source": [
        "# Seno y Coseno\n",
        "\n",
        "$$c= \\text{hipotenusa}$$\n",
        "\n",
        "\n",
        "$$\n",
        "a =\n",
        "\\begin{cases}\n",
        "\\text{es el cateto opuesto del ángulo } \\beta,\\\\\n",
        "\\text{es el cateto adyacente del ángulo } \\gamma\n",
        "\\end{cases}\n",
        "$$\n",
        "\n",
        "$$\n",
        "b =\n",
        "\\begin{cases}\n",
        "\\text{es el cateto opuesto del ángulo } \\gamma,\\\\\n",
        "\\text{es el cateto adyacente del ángulo } \\beta\n",
        "\\end{cases}\n",
        "$$\n",
        "\n",
        "\n",
        "<img src=\"http://www.universoformulas.com/imagenes/matematicas/geometria/triangulo-rectangulo.jpg\">\n",
        "\n",
        "\n",
        "- $\\sin () = $cateto_opuesto / hipotenusa\n",
        "- $\\cos () = $cateto_adyacente / hipotenusa\n",
        "\n",
        "**Ejemplo**\n",
        "\n",
        "- $\\sin (\\beta) = a/c \\to a=c \\sin(\\beta)$\n",
        "- $\\cos (\\beta) = b/c \\to b=c \\cos(\\beta)$\n"
      ]
    },
    {
      "metadata": {
        "id": "t1y_RPcPC8R3",
        "colab_type": "text"
      },
      "cell_type": "markdown",
      "source": [
        "\n"
      ]
    },
    {
      "metadata": {
        "id": "0EuwSzNH0Fxk",
        "colab_type": "text"
      },
      "cell_type": "markdown",
      "source": [
        "# Energia\n",
        "\n",
        "- Energia cinética: $E_c =K= \\frac12 m v^2$\n",
        "\n",
        "- Energia potencial gravitacional: $ E_p =U= m g h$\n",
        "\n",
        "\n",
        "Energia total $E = K+U=$ constante. \n",
        "- Se dice que la energía es conservada\n",
        "- la energía no se crea ni se destruye, sólo se transforma.\n",
        "\n",
        "\n",
        "\n",
        "## Ejemplo\n",
        "\n",
        "1. Si suelto una piedra desde un edificio y llega al suelo con velocidad de 5m/s, cuál es la altura del edificio?\n",
        "\n",
        "**Solución:**\n",
        "- Al principio, toda la energia es potencial\n",
        "- Al final, toda la enercia es cinética\n",
        "\n",
        "es decir, al caer la pieda toda la energía potencial se transformó en cinética\n",
        "\n",
        "La conservación de la energía dice que:\n",
        "\n",
        "\\begin{align}\n",
        "E_i &= E_f \\\\\n",
        "(K+U)_i &=(K+U)_f \\\\\n",
        "mgh &= \\frac12\\ m v^2\n",
        "\\end{align}\n",
        "\n",
        "Por lo tanto obtenemos\n",
        "\n",
        "$$h = v^2/(2g)=25/20\\ \\text{metros}$$\n"
      ]
    },
    {
      "metadata": {
        "id": "7B8Ci-1OjocK",
        "colab_type": "text"
      },
      "cell_type": "markdown",
      "source": [
        "# Ejercicios\n",
        "\n",
        "[Trabajo y energia1](http://liceo1.k12.cl/icore/downloadcore/143355)\n",
        "\n",
        "[Trabajo y energia2](https://njctl.org/courses/science-espanol/algebra-based-physics-en-espanol/trabajo-y-energia/attachments/trabajo-y-energia-opcion-multiple/)\n",
        " \n",
        " 1. Un niño sostiene un bloque de 40 N en\n",
        "su brazo por 10 s. Su brazo esta a 1,5 m\n",
        "sobre la tierra. El trabajo hecho por la\n",
        "fuerza ejercida por el niño sobre el bloque\n",
        "durante este intervalo de tiempo\n",
        "es:\n",
        "\n",
        " a) 0 J\n",
        " \n",
        " b) 6,1 J\n",
        " \n",
        " c) 40 J\n",
        " \n",
        " d) 60 J\n",
        " \n",
        " e) 90 J\n",
        " \n",
        "\n",
        "2. ¿Cuál de los siguientes cuerpos tiene\n",
        "una energía cinética más grande?\n",
        "\n",
        " a) masa 3m y velocidad v.    \n",
        " \n",
        " b) masa 3m y velocidad 2v. ------- $K= \\frac12 (3m) (2v)^2 = \\frac12*3*4\\ m v^2 = 6 m v^2$\n",
        " \n",
        " c) masa 2m y velocidad 3v.\n",
        " \n",
        " d) masa m y velocidad 4v.\n",
        " \n",
        " e) masa m y velocidad v/2.\n",
        " \n",
        " "
      ]
    }
  ]
}