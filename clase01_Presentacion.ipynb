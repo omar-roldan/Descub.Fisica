{
  "nbformat": 4,
  "nbformat_minor": 0,
  "metadata": {
    "colab": {
      "name": "clase1 - Presentacion.ipynb",
      "version": "0.3.2",
      "views": {},
      "default_view": {},
      "provenance": []
    },
    "kernelspec": {
      "display_name": "Python 3",
      "language": "python",
      "name": "python3"
    }
  },
  "cells": [
    {
      "metadata": {
        "id": "j3bUUCAyO0EW",
        "colab_type": "text"
      },
      "cell_type": "markdown",
      "source": [
        "# Descubriendo la física G6: 2018-II\n",
        "\n",
        "## Clase 1: Presentación del curso\n",
        "\n",
        "Profesor: Omar Roldan\n",
        "\n",
        "Formación: Físico (UdeA), PhD. en física (UFRJ)\n",
        "\n",
        "omar.roldan@udea.edu.co\n"
      ]
    },
    {
      "metadata": {
        "id": "2YVl-3i8O0EZ",
        "colab_type": "text"
      },
      "cell_type": "markdown",
      "source": [
        "## Dificultades en el proceso?\n",
        "\n",
        "- Entrar en contactor conmigo.\n",
        "\n",
        "\n",
        "- Coordinador del Curso: <br>\n",
        "Prof.: Jaime Velez, arturo.velez@udea.edu.co \n",
        "\n",
        "\n",
        "- Bienestar  universitario. <br>\n",
        "bienestarudearroba@udea.edu.co \n",
        "\n",
        "\n"
      ]
    },
    {
      "metadata": {
        "id": "LJGgrPZXO0EZ",
        "colab_type": "text"
      },
      "cell_type": "markdown",
      "source": [
        "## ude@ (Moodle)\n",
        "- https://udearroba.udea.edu.co/internos/enrol/index.php?id=889\n",
        "\n",
        "\n",
        "#### Objetivo geral\n",
        "\n",
        "Mostar al estudiante, mediante el estudio de casos, que la naturaleza y los objetos que nos rodean funcionan acorde a un número pequeño de principios, leyes y teorías.\n",
        "\n",
        "#### Bibliografía\n",
        "\n",
        "- La física, una aventura del pensamiento. A.Einstein; L.Infeld. 1965. Losada. \n",
        "\n",
        "\n",
        "- Física conceptual. G.Pineda. 2005. Ude@\n",
        "\n",
        "\n",
        "- Los conceptos de la física. Evolución histórica. A.Sepúlveda. 2003. UdeA. \n",
        "\n",
        "\n",
        "- Física Conceptual. Paul Hewitt"
      ]
    },
    {
      "metadata": {
        "id": "VYhnywsJO0EZ",
        "colab_type": "text"
      },
      "cell_type": "markdown",
      "source": [
        "## Material de estudio\n",
        "\n",
        "Módulos por tema, servirán como guía de trabajo. \n",
        "\n",
        "#### Usar también:\n",
        "- Libros guía.\n",
        "\n",
        "\n",
        "- Recursos interactivos : simulaciones, videos de divulgación, páginas interactivas."
      ]
    },
    {
      "metadata": {
        "id": "JVV-iwBHO0Eb",
        "colab_type": "text"
      },
      "cell_type": "markdown",
      "source": [
        "## Metodología de estudio\n",
        "\n",
        "- Estudiar el tema antes de clase. \n",
        "    - Invertir el tiempo necesario a cada tema: *Cada hora en clase requiere 3 horas de estudio individual.*\n",
        "\n",
        "\n",
        "\n",
        "- Participación activa en clase.\n",
        "\n",
        "\n",
        "- Crear una evaluación continua del propio proceso de aprendizaje.\n",
        "    - Preguntas de autoevaluación al final de clase.\n",
        "    - Quices del tema estudiado."
      ]
    },
    {
      "metadata": {
        "id": "wAyjvPzDO0Eb",
        "colab_type": "text"
      },
      "cell_type": "markdown",
      "source": [
        "<img src=\"https://www.researchgate.net/profile/Mario_Lazaro/publication/308649243/figure/fig3/AS:410854328684546@1474966713198/Figura-2-Piramide-de-aprendizaje-basada-en-el-cono-de-aprendizaje-de-Edgar-Dale-Dale.ppm\" width=\"700\">"
      ]
    },
    {
      "metadata": {
        "id": "2IVCO0TDO0Ec",
        "colab_type": "text"
      },
      "cell_type": "markdown",
      "source": [
        "## Contenido\n",
        "\n",
        "- No todas las sesiones serán evaluadas.\n",
        "\n",
        "\n",
        "- Comenzamos en la sesión 3.\n",
        "\n"
      ]
    },
    {
      "metadata": {
        "id": "z4BvjSOkO0Ec",
        "colab_type": "text"
      },
      "cell_type": "markdown",
      "source": [
        "## Evaluación\n",
        "\n",
        "<br>\n",
        "\n",
        "<font color='green'>\n",
        "    3 Parciales cada uno del 20 %\n",
        "</font>\n",
        "\n",
        "\n",
        "- Fecha 01:  Módulos 3 al 10.\n",
        "- Fecha 02:  Módulos 11 al 18.\n",
        "- Fecha 03:  Módulos 22 al 29.\n",
        "\n",
        "15 sept, 13 oct y 17 nov\n",
        "\n",
        "\n",
        "\n",
        "<br>\n",
        "<font color='green'>\n",
        "    Seguimiento: 40%\n",
        "</font>\n",
        "\n",
        "\n",
        "- Quices\n",
        "- Preguntas falso verdadero, opción múltiple y justificación. \n"
      ]
    },
    {
      "metadata": {
        "id": "Cskn3H46O0Ee",
        "colab_type": "text"
      },
      "cell_type": "markdown",
      "source": [
        "## Observaciones\n",
        "\n",
        "- Este curso **no es habilitable**, ni validable. \n",
        "\n",
        "\n",
        "- Es de suma importancia la asistencia a clase.\n",
        "\n",
        "\n",
        "- ude@ es un programa presencial de carácter virtual. "
      ]
    },
    {
      "metadata": {
        "id": "-FEk7E4cc7l1",
        "colab_type": "text"
      },
      "cell_type": "markdown",
      "source": [
        "# Material Suplementario"
      ]
    },
    {
      "metadata": {
        "id": "cZ5PgFHOeHPx",
        "colab_type": "text"
      },
      "cell_type": "markdown",
      "source": [
        "- [Jupyter, una revolución para la colaboración científica](http://www.udea.edu.co/wps/portal/udea/web/inicio/udea-noticias/udea-noticia/!ut/p/z1/vZVLU8IwEMe_ihw4drJN0xKPtSIMIqC2lObipA8kSB9AAfHT244cFKcUh4k9pElm97eP7MwfMTRBLOFb8cpzkSZ8UZw9ZrzQawurJoE-GMQA0xgRvYU7mj0G5B4Z3Ks6mI_t0cAeWqPbHkas2t8a6gd_qPhMOM__hAE7nf8YMcSCJM_yGfKydJXzxSaMeBP4-udplsbR175cr5I0F4Hg6yYEaZJHiQjT0urbtYiSYteE-Sbb59FKOVyU8bJAhMgD1demNFIV0EOsEBxMFV8FohhT3w8iI8A8rKmvLICdbp9bxqsm0C4-NqBA74ontPtt4jwAlC08Ivx-47osvKKKVlUOGhDkbkW0Q06SruJi6p7_2KRubQT9wgg1-JZUfAfLxaty8ZpUPAW5eEMuXu5gUrmDOSRy8XJ7Ty6dnF6duBTqKebLJTMLiSlV4j1Hk3_RmCx2HCem2l55e-p-3AyUjuXTnT2Nz_i5ZqPxCURPqj0!/dz/d5/L2dBISEvZ0FBIS9nQSEh/?page=udea.inicio.udea.noticias.noticia&urile=wcm:path:/PortalUdeA/asPortalUdeA/asHomeUdeA/UdeA%2BNoticias/Contenido/asNoticias/Ciencia/jupyter-ciencia) \n",
        "\n",
        "  - Prof.   **Fernando Pérez Arango**,  físico en 1994 y máster en física en 1996 de la UdeA\n",
        "\n",
        "\n",
        "\n",
        "- Trabajo motivado en grande parte por: \n",
        "Wolfram | Alpha (Mathematica)\n",
        "  - [Stephen Wolfram](https://en.wikipedia.org/wiki/Stephen_Wolfram)"
      ]
    },
    {
      "metadata": {
        "id": "Hq4QX9UakCRJ",
        "colab_type": "text"
      },
      "cell_type": "markdown",
      "source": [
        "\n",
        "[Elon Musk](https://en.wikipedia.org/wiki/Elon_Musk)\n",
        "Físico - Empresário\n",
        "\n"
      ]
    }
  ]
}
