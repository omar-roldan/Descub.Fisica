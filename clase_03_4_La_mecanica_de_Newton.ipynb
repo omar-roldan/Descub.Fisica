{
  "nbformat": 4,
  "nbformat_minor": 0,
  "metadata": {
    "colab": {
      "name": "clase 03 - 4.La mecanica de Newton.ipynb",
      "version": "0.3.2",
      "views": {},
      "default_view": {},
      "provenance": []
    }
  },
  "cells": [
    {
      "metadata": {
        "id": "3lOSd6S0Pj_g",
        "colab_type": "text"
      },
      "cell_type": "markdown",
      "source": [
        "# Descubriendo la física G6: 2018-II\n",
        "\n",
        "Clase 3: Módulo 4 - La mecanica de Newton"
      ]
    },
    {
      "metadata": {
        "id": "WMdwC8pEP-T9",
        "colab_type": "text"
      },
      "cell_type": "markdown",
      "source": [
        "## Respuesta a algunas preguntas\n",
        "- Quién programa la fecha de los parciales?\n",
        "- Cronograma parciales y quices"
      ]
    },
    {
      "metadata": {
        "id": "sXYX4GWDHaSI",
        "colab_type": "text"
      },
      "cell_type": "markdown",
      "source": [
        "## videos\n",
        "\n",
        "\n",
        "[02_12_Inercia_Riel_Aire.mp4](https://drive.google.com/file/d/0B5SI80SuOy8RUVVJNVhSeF9EdGM/view) \n",
        "\n",
        "\n",
        "[02_17_Lapiz_Madera_Terciada.mp4](https://drive.google.com/file/d/0B5SI80SuOy8ReXFMdEhSRXZaOEE/view)\n",
        "\n",
        "[\n",
        "02_18_Deslizadores_Reaccion.mp4](https://drive.google.com/file/d/0B5SI80SuOy8RZjJ5TWZ6bkxnVUk/view)\n",
        "\n",
        "[\n",
        "02_19_Deslizadores_Reaccion.mp4](https://drive.google.com/file/d/0B5SI80SuOy8Ra2k2VWtfOUdGY3M/view)\n",
        "\n",
        "[\n",
        "02_20_Carro_Tabla_Rueda.mp4](https://drive.google.com/file/d/0B5SI80SuOy8RSDFmNHJlUkl1Mzg/view)\n",
        "\n",
        "\n",
        "[\n",
        "02_21_Carro_Ventilador_Vela.mp4](https://drive.google.com/file/d/0B5SI80SuOy8RMDVDS2U2a0RXVEE/view)\n",
        "\n",
        "\n",
        "[\n",
        "02_22_Cohete_CO2.mp4](https://drive.google.com/file/d/0B5SI80SuOy8RYjBCRDlVX2huSU0/view)\n",
        "\n",
        "\n"
      ]
    },
    {
      "metadata": {
        "id": "OZEVz5zYHjtI",
        "colab_type": "text"
      },
      "cell_type": "markdown",
      "source": [
        "# Leyes de Newton \n"
      ]
    },
    {
      "metadata": {
        "id": "PZs_q3hXtfvA",
        "colab_type": "text"
      },
      "cell_type": "markdown",
      "source": [
        "1. Ley de inercia\n",
        "\n",
        "1. Ley de fuerza: $$ \\vec{F} = m \\vec{a} $$\n",
        "\n",
        "1. Acción y reacción: $$ \\vec{F}_{1,2} = -\\vec{F}_{2,1} $$\n"
      ]
    },
    {
      "metadata": {
        "id": "gL5dxz-FQy_d",
        "colab_type": "text"
      },
      "cell_type": "markdown",
      "source": [
        "**Ejemplo**\n",
        "\n",
        "Un cuerpo pesado, $M= 60000 \\text{kg}$ ($60$ toneladas), le ejerce una fuerza $F=60 \\text{N}$ a otro liviano, $m= 6 \\text{kg}$. Por acción - reacción, la misma fuerza es ejercida por el cuerpo liviano al pesado. Calcular la aceleración de cada uno.\n",
        "\n",
        "*aceleración del cuerpo liviano*\n",
        "\n",
        "$$60 = 60 * 1 \\to a_\\text{liviano} = 1\\ m/s^2$$\n",
        "\n",
        "*aceleración del cuerpo pesado*\n",
        "\n",
        "$$60 = 60000 * 0.001 \\to a_\\text{pesado} = 0.001\\ m/s^2$$"
      ]
    },
    {
      "metadata": {
        "id": "dqfrwFCnHfqv",
        "colab_type": "text"
      },
      "cell_type": "markdown",
      "source": [
        "## Momentum lineal y su conservación\n",
        "\n",
        "- Momentum lineal: \n",
        "$$ \\vec{P} \\equiv m \\vec{v} $$\n",
        "\n",
        "- Conservación del momentum lineal:\n",
        "en ausencia de fuerzas\n",
        "$$ \\vec{P}_{total} = \\text{const}  $$\n",
        "\n",
        "- Fuerza:\n",
        "$$ \\vec{F} = \\frac{d}{dt}\\vec{P} = m \\frac{d}{dt}\\vec{v} = m \\vec{a}  $$\n",
        "\n"
      ]
    },
    {
      "metadata": {
        "id": "PwK-55XB_ZkH",
        "colab_type": "text"
      },
      "cell_type": "markdown",
      "source": [
        "**Sobre la derivada:**\n",
        "\n",
        "- $dP/dt$: derivada de $P$ en relación a $t$.\n",
        "\n",
        "- Derivada es la razón de cambio, en este caso, la razón de cambio de $P$ con respeto a $t$.\n",
        "\n",
        "- Si escribimos\n",
        "$ F = \\Delta P / \\Delta t$ es porque estamos únicamente interesados en los puntos final, $f$, e inicial, $i$.\n",
        "  - $\\Delta P = P_f-P_i$\n",
        "\n",
        "- En el caso de la derivada, estamos interesados en los cambios instantáneos, osea, cómo cambia $P$ todo el tiempo.\n",
        "\n",
        "- Entonces $ dP/dt$ es lo mismo que $ F = \\Delta P / \\Delta t$ pero mirando las variaciones instantáneas (todo el tiempo)."
      ]
    },
    {
      "metadata": {
        "id": "W16z6AS-S5_b",
        "colab_type": "text"
      },
      "cell_type": "markdown",
      "source": [
        "# Formulário: Problemas \n",
        "\n",
        "[quiz 1 - Clase 3](https://docs.google.com/forms/d/e/1FAIpQLSdzw0BA-EApCPsgc8Jg4GKoJwQVDZDc6OoCA2wualTtea9V9A/viewform?usp=sf_link)"
      ]
    },
    {
      "metadata": {
        "id": "XkMQxZKd1hPb",
        "colab_type": "text"
      },
      "cell_type": "markdown",
      "source": [
        "- peso $\\ne$ masa\n",
        "\n",
        "- masa está relacionada con la inercia, se mide en $kg$\n",
        "\n",
        "- **Peso de un cuerpo**: es la fuerza de gravedad sobre ese cuerpo. Osea, $\\vec{p} = m \\vec{g}$\n",
        "  -  $\\vec{g}$ es el vector aceleración de la gravedad, que apunta hacia el centro de la Tierra.\n",
        "  - siendo una fuerza, el peso se mide en *Newtons*"
      ]
    }
  ]
}