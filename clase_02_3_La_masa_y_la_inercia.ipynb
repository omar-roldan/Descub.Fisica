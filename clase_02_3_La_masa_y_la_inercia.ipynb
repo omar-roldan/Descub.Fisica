{
  "nbformat": 4,
  "nbformat_minor": 0,
  "metadata": {
    "colab": {
      "name": "clase 02 - 3.La masa y la inercia.ipynb",
      "version": "0.3.2",
      "views": {},
      "default_view": {},
      "provenance": []
    },
    "kernelspec": {
      "display_name": "Python 3",
      "language": "python",
      "name": "python3"
    }
  },
  "cells": [
    {
      "metadata": {
        "id": "Zt5d84wuw4LP",
        "colab_type": "text"
      },
      "cell_type": "markdown",
      "source": [
        "# Descubriendo la física G6: 2018-II\n",
        "\n",
        "Clase 2: Módulo 3, ..."
      ]
    },
    {
      "metadata": {
        "id": "u0lMjChtw4LR",
        "colab_type": "text"
      },
      "cell_type": "markdown",
      "source": [
        "## Google Drive\n",
        "\n",
        "usando google\n",
        "- docs\n",
        "- sheets\n",
        "- forms"
      ]
    },
    {
      "metadata": {
        "id": "fF8V9dj0w4LU",
        "colab_type": "text"
      },
      "cell_type": "markdown",
      "source": [
        "#  3.La masa y la inercia"
      ]
    },
    {
      "metadata": {
        "id": "JAfgfyX0w4LT",
        "colab_type": "text"
      },
      "cell_type": "markdown",
      "source": [
        "**velocidad media**: dice como cambia la posición en relación al tiempo\n",
        "$$v = \\Delta x / \\Delta t$$\n",
        "\n",
        "**aceleración media**: dice como cambia la velocidad en relación al tiempo\n",
        "$$a = \\Delta v / \\Delta t$$\n",
        "\n",
        "**OBS:**\n",
        "\n",
        "$\\Delta$ quiere decir variación (cambio), por ejemplo: \n",
        "$$\\Delta x = x_f - x_i$$"
      ]
    },
    {
      "metadata": {
        "id": "Fm0SkbRWw4LV",
        "colab_type": "text"
      },
      "cell_type": "markdown",
      "source": [
        "En el movimiento de caida libre (osea, únicamente actua la fuerza de gravedad, despreciamos los efectos del aire), tenemos una combinación de dos movimientos:\n",
        "\n",
        "- **Mov. uniforme** en el eje horizontal. \n",
        "  - La velocidad $v_x$ en el eje $x$ es constante\n",
        "  - La posición en $x$ varia de acuerdo a\n",
        "$$ x = x_o+v_{x} t$$\n",
        "\n",
        "- **Mov. uniformemente acelerado** en el eje horizontal.\n",
        "  - La velocidad en el eje $y$ varia como\n",
        "  $$ v_{y} = v_{oy} - g t$$\n",
        "  - La posición en $y$ varia de acuerdo a\n",
        "$$ y = y_o+v_{oy} t-g\\ t^2/2$$\n",
        "\n",
        "\n",
        "donde:\n",
        "- $v_{oy}$ es la velocidad inicial en $y$,\n",
        "- $g$ es la aceleración de la gravedad\n"
      ]
    },
    {
      "metadata": {
        "id": "EhLxscs0w4LW",
        "colab_type": "code",
        "colab": {
          "autoexec": {
            "startup": false,
            "wait_interval": 0
          }
        }
      },
      "cell_type": "code",
      "source": [
        "import numpy as np\n",
        "import matplotlib.pyplot as plt\n",
        "\n",
        "vx = 2     # m/s\n",
        "vyo = 0    # m/s\n",
        "g = 9.8     #m/s^2\n",
        "\n",
        "t = np.linspace(0, 5, 100) # Plot-parameter"
      ],
      "execution_count": 0,
      "outputs": []
    },
    {
      "metadata": {
        "id": "7sHIW79M6M8P",
        "colab_type": "text"
      },
      "cell_type": "markdown",
      "source": [
        "### vamos ver como es un gráfico de la posición en función del tiempo"
      ]
    },
    {
      "metadata": {
        "id": "ZirH_Q4o4HPE",
        "colab_type": "code",
        "colab": {
          "autoexec": {
            "startup": false,
            "wait_interval": 0
          },
          "base_uri": "https://localhost:8080/",
          "height": 361
        },
        "outputId": "742f7184-9e9e-4b07-f095-2ccea1cd225f",
        "executionInfo": {
          "status": "ok",
          "timestamp": 1532781604016,
          "user_tz": 180,
          "elapsed": 1338,
          "user": {
            "displayName": "OMAR ALBERTO ROLDAN GARCIA",
            "photoUrl": "https://lh3.googleusercontent.com/a/default-user=s128",
            "userId": "110872452029616849300"
          }
        }
      },
      "cell_type": "code",
      "source": [
        "x = vx*t\n",
        "y = - g*t**2 / 2.0\n",
        "\n",
        "plt.subplot(211)\n",
        "plt.plot(t, x, 'k')\n",
        "plt.ylabel('eje x')\n",
        "\n",
        "plt.subplot(212)\n",
        "plt.plot(t, y, 'r--')\n",
        "plt.xlabel('parametro t')\n",
        "plt.ylabel('eje y')\n",
        "\n",
        "plt.show()"
      ],
      "execution_count": 9,
      "outputs": [
        {
          "output_type": "display_data",
          "data": {
            "image/png": "[encoded data removed]",
            "text/plain": [
              "<matplotlib.figure.Figure at 0x7fe7f0135d30>"
            ]
          },
          "metadata": {
            "tags": []
          }
        }
      ]
    },
    {
      "metadata": {
        "id": "cAe513Lm6jHV",
        "colab_type": "text"
      },
      "cell_type": "markdown",
      "source": [
        "### ahora, veamos el en el espacio físico"
      ]
    },
    {
      "metadata": {
        "id": "LgqWukABw4Lg",
        "colab_type": "code",
        "colab": {
          "autoexec": {
            "startup": false,
            "wait_interval": 0
          },
          "base_uri": "https://localhost:8080/",
          "height": 361
        },
        "outputId": "709f78dc-8d61-4da0-8c13-3ab3cab39fcd",
        "executionInfo": {
          "status": "ok",
          "timestamp": 1532781874043,
          "user_tz": 180,
          "elapsed": 798,
          "user": {
            "displayName": "OMAR ALBERTO ROLDAN GARCIA",
            "photoUrl": "https://lh3.googleusercontent.com/a/default-user=s128",
            "userId": "110872452029616849300"
          }
        }
      },
      "cell_type": "code",
      "source": [
        "plt.plot(x,y)\n",
        "plt.xlabel('eje x')\n",
        "plt.ylabel('eje y')\n",
        "\n",
        "plt.show()"
      ],
      "execution_count": 10,
      "outputs": [
        {
          "output_type": "display_data",
          "data": {
            "image/png": "[encoded data removed]",
            "text/plain": [
              "<matplotlib.figure.Figure at 0x7fe7f01864a8>"
            ]
          },
          "metadata": {
            "tags": []
          }
        }
      ]
    },
    {
      "metadata": {
        "id": "t-qub2bxw4Lj",
        "colab_type": "text"
      },
      "cell_type": "markdown",
      "source": [
        "## Información Extra\n",
        "\n",
        "- Encuesta, google forms\n",
        "- Tema Próx. Clase: Módulo 4\n"
      ]
    }
  ]
}