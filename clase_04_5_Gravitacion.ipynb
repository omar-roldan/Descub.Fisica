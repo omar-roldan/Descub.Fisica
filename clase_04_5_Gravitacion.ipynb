{
  "nbformat": 4,
  "nbformat_minor": 0,
  "metadata": {
    "colab": {
      "name": "clase 04 - 5.Gravitacion.ipynb",
      "version": "0.3.2",
      "provenance": []
    }
  },
  "cells": [
    {
      "metadata": {
        "id": "UmHQVphjqVYx",
        "colab_type": "text"
      },
      "cell_type": "markdown",
      "source": [
        "# Descubriendo la física G6: 2018-II\n",
        "\n",
        "Clases 4,5,6: Módulo 5,6\n",
        "\n",
        "\n"
      ]
    },
    {
      "metadata": {
        "id": "9ttAy2f-2-ty",
        "colab_type": "text"
      },
      "cell_type": "markdown",
      "source": [
        "## Videos\n",
        "\n",
        "[\n",
        "02_01_Disparo_Caida.m4v](https://drive.google.com/file/d/0B5SI80SuOy8RMGRFYmdOSmFEam8/view)\n",
        "\n",
        "[\n",
        "02_05_Parabolas_Mesa_Aire.mp4](https://drive.google.com/file/d/0B5SI80SuOy8ROG5LNUxISkFScDQ/view)\n",
        "\n",
        "[\n",
        "02_06_Canon_Alcance_Variable.mp4](https://drive.google.com/file/d/0B5SI80SuOy8RQjZsUWoxNXRGUEE/view)\n",
        "\n",
        "\n",
        "[\n",
        "02_09_Pesas_Deslizan_Triangulo.mp4](https://drive.google.com/file/d/0B5SI80SuOy8RYXV5RFhPVWpwZms/view)\n",
        "\n"
      ]
    },
    {
      "metadata": {
        "id": "KD5WT5u53CsD",
        "colab_type": "text"
      },
      "cell_type": "markdown",
      "source": [
        "\n",
        "## Movimiento curvilineo\n",
        "\n",
        "![alt text](http://www2.montes.upm.es/dptos/digfa/cfisica/cinematica/cinematica1_files/comp_intr.gif)\n",
        "\n",
        "\n",
        "\\begin{align}\n",
        "\\vec{v} &= v\\ \\hat{u}_t \\\\\n",
        "\\vec{a} &= a_t\\ \\hat{u}_t + a_n\\ \\hat{u}_n\n",
        "\\end{align}\n",
        "\n",
        "<br>\n",
        "\n",
        "- $ \\vec{F}_t = m\\ \\vec{a}_t $, es la causante de los **cambios en la magnitud** de la velocidad \n",
        "\n",
        "- $ \\vec{F}_n = m\\ \\vec{a}_n$, es la causante de los **cambios en la dirección** de la velocidad \n",
        "\n",
        "$$ a_t = \\frac{dv}{dt}, \\qquad \n",
        "a_n = \\frac{v^2}{r} $$\n",
        "\n",
        "<br>\n",
        "<br>\n",
        "\n",
        "<img src=\"https://www.fisicalab.com/sites/all/files/contenidos/intromov/componentesaceleraci%C3%B3n%20copia.png\" width=\"500\">\n"
      ]
    },
    {
      "metadata": {
        "id": "HdOVFPuX3OT5",
        "colab_type": "text"
      },
      "cell_type": "markdown",
      "source": [
        "# Gravitación\n",
        "\n",
        "## Ley de gravitación universal \n",
        "\n",
        "\\begin{align*}\n",
        "F &= G \\frac{m_1 m_2}{r^2} \\\\\n",
        "G &= 6.67 \\times 10^{-11} N m^2/s^2\n",
        "\\end{align*}\n",
        "\n",
        "$G:$ Constante gravitacional universal\n",
        "\n",
        "## Leyes de Kepler\n",
        "\n",
        "1. Planetas: siguen orbitas elípticas\n",
        "\n",
        "<img src=\"https://espaciociencia.com/wp-content/uploads/2010/10/leyes-kepler.png\" width=\"600\">\n",
        "\n",
        "2. Planetas: barren áreas iguales en tiempos iguales\n",
        "\n",
        "<img src=\"https://sites.google.com/site/elmundodelacosmologia/_/rsrc/1370275777443/las-leyes-de-kepler/20070924klpcnafyq_55.Ees.SCO.png\" width=\"600\">\n",
        "\n",
        "3. El cuadrado del periodo de las órbitas es proporcional al cubo de los radios medios\n",
        "\n",
        "$$ T^2 \\propto R^3$$\n",
        "\n",
        "$T$: período, el tiempo que demora el planeta en orbitar al Sol\n"
      ]
    },
    {
      "metadata": {
        "id": "GUvhtHDuI6FD",
        "colab_type": "text"
      },
      "cell_type": "markdown",
      "source": [
        "## Ejemplo\n",
        "\n",
        "Sabemos que: $T^2 = k R^3$, donde $k$ es una constante.\n",
        "El valor de la constante depende de las unidades que usemos. Mediremos el tiempo en años y escogemos las unidades de distancia de tal manera que el valor numérico de $k$ sea $k=1$.\n",
        "\n",
        "\n",
        "**Tierra **\n",
        "\n",
        "$T=1$ año, luego reemplazando en la tercera ley de Kepler: $1^2 = R^3$, y obtenemos\n",
        "$R= 1 \\text{UA}$, que es la distancia de la Tierra al Sol. UA quiere decir \"Unidad Astronómica\"\n",
        "\n",
        "\n",
        "**Marte**\n",
        "\n",
        "Supongamos que Marte está el doble de lejos que la Tierra del Sol. Es decir, $R_m=2 \\text{UA}$. Cuánto demoraria Marte en orbitar al Sol?\n",
        "\n",
        "\\begin{align}\n",
        "T^2_m &=  R^3_m \\\\\n",
        "T_m &= \\sqrt{R^3_m} \\\\\n",
        "T_m &= 2.82\\ \\text{años}\n",
        "\\end{align}\n",
        "\n",
        "\n",
        "\n"
      ]
    },
    {
      "metadata": {
        "id": "PlvgnDul3HdD",
        "colab_type": "text"
      },
      "cell_type": "markdown",
      "source": [
        "\n",
        "## Mov. circular\n",
        "\n",
        "<img src=\"https://sites.google.com/site/temasfisica03/_/rsrc/1463504554418/home/movimiento-circular/movimientocircular.jpg?height=300&width=400\">\n",
        "\n",
        "\n",
        "- $s$: longitud de arco\n",
        "- $\\omega:$ velocidad angular\n",
        "\n",
        "\\begin{align*}\n",
        "s &= r\\ \\theta \\\\\n",
        "v &= r\\ \\omega, \\qquad \\omega = \\frac{\\Delta \\theta}{\\Delta t}\n",
        "\\end{align*}\n",
        "\n",
        "<img src=\"https://image.jimcdn.com/app/cms/image/transf/dimension=210x1024:format=png/path/sce1fe2a743ab0a00/image/i6499388298f488b3/version/1352634524/image.png\" width=\"400\">\n",
        "\n",
        "[Movimiento Circular Uniforme (MCU)](https://www.youtube.com/watch?time_continue=162&v=sXCCG_JLOGI)\n"
      ]
    },
    {
      "metadata": {
        "id": "ax3bRSEODo4M",
        "colab_type": "text"
      },
      "cell_type": "markdown",
      "source": [
        "# Videos equilibrio\n",
        "\n",
        "[\n",
        "03_19_Estabilidad.mp4](https://drive.google.com/file/d/0B5SI80SuOy8RX1pZb3c3RWVMdXc/view)\n",
        "\n",
        "[\n",
        "03_21_Centro_Masa_Disco.mp4](https://drive.google.com/file/d/0B5SI80SuOy8RLXBjT2Z4NjAzS00/view)\n",
        "\n",
        "[\n",
        "03_20_Centro_Masa_Irregular.mp4](https://drive.google.com/file/d/0B5SI80SuOy8RMkxScjNCQm9oV2s/view)\n",
        "\n",
        "[\n",
        "03_23_Payaso_Cuerda_Floja.mp4](https://drive.google.com/file/d/0B5SI80SuOy8RQ0NrbVBkY1VTd0k/view)\n",
        "\n",
        "[\n",
        "03_24_Cono_Doble_Pendiente.mp4](https://drive.google.com/file/d/0B5SI80SuOy8RNUplZ3BHajFWazQ/view)"
      ]
    }
  ]
}