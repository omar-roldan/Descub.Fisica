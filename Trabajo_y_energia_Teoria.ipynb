{
  "nbformat": 4,
  "nbformat_minor": 0,
  "metadata": {
    "colab": {
      "name": "Trabajo y energia - Teoria.ipynb",
      "version": "0.3.2",
      "provenance": [],
      "collapsed_sections": []
    },
    "kernelspec": {
      "name": "python3",
      "display_name": "Python 3"
    }
  },
  "cells": [
    {
      "metadata": {
        "id": "UFeOYkRC9opJ",
        "colab_type": "text"
      },
      "cell_type": "markdown",
      "source": [
        "# Descubriendo la física G6: 2018-II\n",
        "\n",
        "Trabajo y energía - Teoría"
      ]
    },
    {
      "metadata": {
        "id": "lVr6J7ZMI9Gw",
        "colab_type": "text"
      },
      "cell_type": "markdown",
      "source": [
        "---\n",
        "---"
      ]
    },
    {
      "metadata": {
        "id": "zDJGlpOvHykp",
        "colab_type": "text"
      },
      "cell_type": "markdown",
      "source": [
        "# Tabla de contenido\n",
        "\n",
        "- [Resumen: fórmulas](#Resumen: fórmulas)\n",
        "- [Trabajo](#Trabajo)\n",
        "- [Energía](#Energía)\n",
        "- [Fuerzas disipativas x Fuerzas conservativas](#Fuerzas disipativas x Fuerzas conservativas)\n",
        "- [Teorema del trabajo y la energía](#Teorema del trabajo y la energía)\n",
        "- [Conservación de la energía](#Conservación de la energía)"
      ]
    },
    {
      "metadata": {
        "id": "tZgJS4zjYUWT",
        "colab_type": "text"
      },
      "cell_type": "markdown",
      "source": [
        "--- \n",
        "---\n",
        " "
      ]
    },
    {
      "metadata": {
        "id": "AdC3G7UX9tbd",
        "colab_type": "text"
      },
      "cell_type": "markdown",
      "source": [
        " <a name=\" Resumen: fórmulas\"></a>\n",
        "# Resumen: fórmulas\n",
        "\n",
        "- Trabajo:  $$W = F_p\\ d = F \\cos(\\theta)\\ d$$\n",
        "\n",
        "- Energía cinética:  $$E_c=\\frac12 m v^2 $$\n",
        "\n",
        "- Energía potencial:  $$E_p=m g h$$\n",
        "\n",
        "- Concervación de la energía:  $$\\rm{energia\\ total} = E_c+E_p=cte$$\n",
        "\n",
        "### Teorema del trabajo y la energía\n",
        "\n",
        "**Trabajo total**: siempre es igual a la variación de la energía cinética\n",
        "$$W= \\Delta E_c = \\frac12 m v^2_f - \\frac12 m v^2_i $$\n",
        "\n",
        "**Trabajo** hecho por **fuerzas conservativas:**\n",
        "$$W= - \\Delta E_p = m g h_i -  m g h_f $$\n"
      ]
    },
    {
      "metadata": {
        "id": "2_txkVjLY3rB",
        "colab_type": "text"
      },
      "cell_type": "markdown",
      "source": [
        "---\n",
        "---\n",
        "---\n",
        "---"
      ]
    },
    {
      "metadata": {
        "id": "tkT9ygjWN7QZ",
        "colab_type": "text"
      },
      "cell_type": "markdown",
      "source": [
        "\n",
        " <a name=\"Trabajo\"></a>\n",
        "# Trabajo\n",
        "\n",
        " <img align=\"right\" src=\"http://www.juntadeandalucia.es/averroes/centros-tic/14700584/helvia/aula/archivos/_22/html/2230/trabajo.png\" > \n",
        "\n",
        "$$W = F_p\\ d = F \\cos(\\theta)\\ d$$\n",
        "\n",
        "donde:\n",
        "- $F_p$ es la componente de la fuerza que es paralela al desplazamiento\n",
        "- $\\theta$ es el ángulo entre la fuerza y el desplazamiento\n",
        "\n",
        "\n",
        " \n",
        "\n",
        " \n",
        "Notemos que:\n",
        "1. $\\cos 90^o = 0$, entonces: fuerzas perpendiculares al movimiento no realizan trabajo.\n",
        "\n",
        "1. $\\cos 180^o = -1$, entonces: fuerzas opuestas (antiparalelas) al movimiento realizan trabajo negativo.\n",
        "\n",
        "1. $\\cos 0 = 1$,  fuerzas paralelas al movimiento realizan trabajo positivo.\n",
        "\n",
        "\n",
        "<img src=\"http://www.juntadeandalucia.es/averroes/centros-tic/14700584/helvia/aula/archivos/_22/html/2230/casostrabajo.PNG\">\n",
        "\n",
        "VER TAMBIÉN:\n",
        "\n",
        "- [Trabajo y energia - WEB](http://www.juntadeandalucia.es/averroes/centros-tic/14700584/helvia/aula/archivos/_22/html/2230/trabajo_mecnico_realizado_por_una_fuerza_constante.html)"
      ]
    },
    {
      "metadata": {
        "id": "sEnwLplW7Vn9",
        "colab_type": "text"
      },
      "cell_type": "markdown",
      "source": [
        "---\n",
        "---"
      ]
    },
    {
      "metadata": {
        "id": "-c9Vmp-jXEAM",
        "colab_type": "text"
      },
      "cell_type": "markdown",
      "source": [
        "\n",
        " <a name=\"Energía\"></a>\n",
        "# Energía\n",
        "\n",
        "- Energía cinética (energía de movimiento): $$E_c = \\frac12 m v^2$$\n",
        "\n",
        "- Energía potencial gravitacional: toda energía potencial siempre se deriva de una fuerza, en este caso, de la fuerza de gravedad $$ E_p = m g h$$\n",
        "\n",
        "- Energía total $$E = E_c + E_p $$\n",
        "\n",
        "\n"
      ]
    },
    {
      "metadata": {
        "id": "ab_LOFGEIM0Q",
        "colab_type": "text"
      },
      "cell_type": "markdown",
      "source": [
        "\n",
        " <a name=\"Fuerzas disipativas x Fuerzas conservativas\"></a>\n",
        "# Fuerzas disipativas x Fuerzas conservativas\n",
        "\n",
        "- **Fuerzas conservativas**: son fuerzas que tienen asociada una energía potencial. Ya mencionamos la energía potencial gravitacional, pero también existen otros casos:\n",
        "\n",
        "  - energía potencial eléctrica\n",
        "  - energía potencial elástica\n",
        "  - etc.\n",
        "  \n",
        "- **Fuerzas disipativas**: son fuerzas que disipan la energía del sistema. O sea, le quitan energía al sistema y se la transfieren al entorno de forma irreversible. Las siguientes fuerzas son disipativas:\n",
        " \n",
        " - fuerza de fricción\n",
        " - resistencia del aire\n",
        " - fuerzas viscosas\n",
        "\n"
      ]
    },
    {
      "metadata": {
        "id": "mznZx-1m7XL5",
        "colab_type": "text"
      },
      "cell_type": "markdown",
      "source": [
        "---\n",
        "---"
      ]
    },
    {
      "metadata": {
        "id": "hJgbg9wgz9S4",
        "colab_type": "text"
      },
      "cell_type": "markdown",
      "source": [
        "<img align=\"right\" src=\"data:image/png;base64,iVBORw0KGgoAAAANSUhEUgAAAOsAAADsCAYAAACVD1FtAAAgAElEQVR4Xu29B5xdVbU//r39Tksv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%0Agb5LwIO177Lzd3oJ9KsE/n8/QfP/bwBl8QAAAABJRU5ErkJggg==\">\n",
        "\n",
        "\n",
        " <a name=\"Teorema del trabajo y la energía\"></a>\n",
        "# Teorema del trabajo y la energía\n",
        "\n",
        "Para todo proceso, la **energía final** es igual a la **energía inicial** + el **trabajo** realizado por las \"fuerzas adionales\"\n",
        "$$E_f = E_i + W_\\rm{adicionales}$$\n",
        "\n",
        "Por \"fuerzas adionales\" entendemos aquellas que no fueron consideradas en la energía potencial.\n",
        "\n",
        "Ejemplo de esas fuerzas pueden ser:\n",
        "- fuerzas realizadas con la mano, o con un instrumento\n",
        "- fuerzas disipativas\n",
        "\n",
        "\n",
        "**NOTA**: Las fuerzas disipativas siempre disminuyen la energía, pues ellas realizan trabajo negativo"
      ]
    },
    {
      "metadata": {
        "id": "JTMuNBJf71hA",
        "colab_type": "text"
      },
      "cell_type": "markdown",
      "source": [
        "---\n",
        "---"
      ]
    },
    {
      "metadata": {
        "id": "N2IAxARY71g8",
        "colab_type": "text"
      },
      "cell_type": "markdown",
      "source": [
        "<img align=\"right\" src=\"http://1.bp.blogspot.com/_DASlMWE-Pxw/TFYEO6P5l6I/AAAAAAAAAC0/9_VlbceasUk/s1600/cin%C3%A9tica.png\" width=\"400\">\n",
        "\n",
        "\n",
        " <a name=\"Conservación de la energía\"></a>\n",
        "# Conservación de la energía\n",
        "\n",
        "En ausencia de las \"fuerzas adicionales\", tenemos\n",
        "\n",
        "\\begin{align}\n",
        "E_i &= E_f \\\\\n",
        "(E_c+E_p)_i &= (E_c+E_p)_f\n",
        "\\end{align}\n",
        "\n",
        "O sea: $E =$ constante.\n",
        "\n",
        "- Se dice que la energía es conservada.\n",
        "- la energía no se crea ni se destruye, sólo se transforma.\n",
        "  - por ejemplo, la energía cinética se transforma en potencial y viceverza $\\Longrightarrow$\n",
        "  \n",
        "  "
      ]
    }
  ]
}